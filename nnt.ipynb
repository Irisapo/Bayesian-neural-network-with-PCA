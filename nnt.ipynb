{
 "cells": [
  {
   "cell_type": "code",
   "execution_count": null,
   "metadata": {
    "collapsed": true
   },
   "outputs": [],
   "source": [
    "## Run MLP with 2 hidden layers without Bayesian updating "
   ]
  },
  {
   "cell_type": "code",
   "execution_count": 1,
   "metadata": {
    "collapsed": true
   },
   "outputs": [],
   "source": [
    "import numpy as np\n",
    "import pandas as pd\n",
    "import sklearn\n",
    "from sklearn.datasets import fetch_mldata\n",
    "from sklearn.model_selection import train_test_split\n",
    "from sklearn.preprocessing import scale\n",
    "\n",
    "import theano\n",
    "floatX = theano.config.floatX \n",
    "import theano.tensor as T \n",
    "import pymc3 as pm\n",
    "\n",
    "import matplotlib.pyplot as plt \n",
    "from pipetools import pipe # similar to pipe operator in R "
   ]
  },
  {
   "cell_type": "code",
   "execution_count": 2,
   "metadata": {},
   "outputs": [
    {
     "name": "stdout",
     "output_type": "stream",
     "text": [
      "(70000, 784)\n",
      "(70000,)\n"
     ]
    }
   ],
   "source": [
    "# Download MNIST data from mldata.org\n",
    "\n",
    "import tempfile\n",
    "mnist_home = tempfile.mkdtemp()\n",
    "mnist = fetch_mldata(\"MNIST original\", data_home = mnist_home)\n",
    "\n",
    "print(mnist.data.shape) # 70,000 observations with 28*28 pixels \n",
    "print(mnist.target.shape) # 70,000 targets "
   ]
  },
  {
   "cell_type": "code",
   "execution_count": 201,
   "metadata": {},
   "outputs": [
    {
     "name": "stdout",
     "output_type": "stream",
     "text": [
      "Number of images:  70000\n",
      "X shape is (70000, 784) \n",
      " Y shape is (70000,)\n"
     ]
    }
   ],
   "source": [
    "# Divide the data into X matrix and Y matrix \n",
    "def get_mnist_X_Y(mnist):\n",
    "    X = mnist.data \n",
    "    Y = mnist.target\n",
    "    k = len(np.unique(Y)) # the number of categories, which is 10 \n",
    "    n = X.shape[0] # the number of observations \n",
    "    \n",
    "    X = (X - X.min())  / (X.max() - X.min()) # scaling data\n",
    "    \n",
    "    print(\"Number of images: \", n)\n",
    "    return X, Y\n",
    "\n",
    "X, Y = get_mnist_X_Y(mnist)\n",
    "print(\"X shape is {} \\n Y shape is {}\".format(X.shape, Y.shape))"
   ]
  },
  {
   "cell_type": "code",
   "execution_count": 202,
   "metadata": {},
   "outputs": [
    {
     "name": "stdout",
     "output_type": "stream",
     "text": [
      "X_tr shape is (63000, 784) \n",
      " Y_tr shape is (63000,)\n",
      "X_ts shape is (7000, 784) \n",
      " Y_ts shape is (7000,)\n"
     ]
    }
   ],
   "source": [
    "# Split the data into training and testing sets for both X and Y matrices\n",
    "\n",
    "X_tr, X_ts, Y_tr, Y_ts = train_test_split(X, Y, test_size=0.1, random_state=1)\n",
    "print(\"X_tr shape is {} \\n Y_tr shape is {}\".format(X_tr.shape, Y_tr.shape))\n",
    "print(\"X_ts shape is {} \\n Y_ts shape is {}\".format(X_ts.shape, Y_ts.shape))"
   ]
  },
  {
   "cell_type": "code",
   "execution_count": null,
   "metadata": {
    "collapsed": true
   },
   "outputs": [],
   "source": [
    "\"\"\"\n",
    "We will run MLP classifier with two layers, 100 neurons each,\n",
    "without Bayesian update. \n",
    "Code based on http://scikit-learn.org/stable/modules/neural_networks_supervised.html \n",
    "\"\"\"\n",
    "import webbrowser\n",
    "\n",
    "url = \"http://scikit-learn.org/stable/modules/neural_networks_supervised.html\"\n",
    "# Open url in a new tab, if a browser window is already open.\n",
    "webbrowser.open_new_tab(url)"
   ]
  },
  {
   "cell_type": "code",
   "execution_count": 203,
   "metadata": {},
   "outputs": [
    {
     "name": "stdout",
     "output_type": "stream",
     "text": [
      "[[652   1   1   0   1   3   4   0   3   1]\n",
      " [  0 781   2   0   1   0   0   2   1   1]\n",
      " [  1   4 715   5   1   2   2   5   3   0]\n",
      " [  1   1   2 667   0   6   0   7   6   1]\n",
      " [  0   1   1   0 646   0   2   2   0   7]\n",
      " [  1   0   2   2   1 603   1   0   1   1]\n",
      " [  2   1   0   0   4   4 696   0   0   0]\n",
      " [  0   1   4   1   0   0   0 769   1   1]\n",
      " [  1   4   0   3   1   7   2   2 650   7]\n",
      " [  3   0   0   5   7   0   0   6   1 663]]\n",
      "             precision    recall  f1-score   support\n",
      "\n",
      "        0.0       0.99      0.98      0.98       666\n",
      "        1.0       0.98      0.99      0.99       788\n",
      "        2.0       0.98      0.97      0.98       738\n",
      "        3.0       0.98      0.97      0.97       691\n",
      "        4.0       0.98      0.98      0.98       659\n",
      "        5.0       0.96      0.99      0.97       612\n",
      "        6.0       0.98      0.98      0.98       707\n",
      "        7.0       0.97      0.99      0.98       777\n",
      "        8.0       0.98      0.96      0.97       677\n",
      "        9.0       0.97      0.97      0.97       685\n",
      "\n",
      "avg / total       0.98      0.98      0.98      7000\n",
      "\n"
     ]
    }
   ],
   "source": [
    "from sklearn.neural_network import MLPClassifier\n",
    "\n",
    "hidden1, hidden2 = 100, 100\n",
    "mlp = MLPClassifier(hidden_layer_sizes=(hidden1, hidden2))\n",
    "mlp.fit(X_tr, Y_tr)\n",
    "predictions = mlp.predict(X_ts)\n",
    "\n",
    "from sklearn.metrics import classification_report,confusion_matrix\n",
    "\n",
    "print(confusion_matrix(Y_ts, predictions))\n",
    "print(classification_report(Y_ts, predictions))"
   ]
  },
  {
   "cell_type": "markdown",
   "metadata": {},
   "source": [
    "The MLP classifier had an average precision of 98%, which is higher than the accuracy of the Bayesian result. Like the Bayesian result, it did relatively poorly on predicting the 9's, but it did better than Bayesian on predicting the 2's. "
   ]
  },
  {
   "cell_type": "code",
   "execution_count": 171,
   "metadata": {},
   "outputs": [
    {
     "data": {
      "text/plain": [
       "{'activation': 'relu',\n",
       " 'alpha': 0.0001,\n",
       " 'batch_size': 'auto',\n",
       " 'beta_1': 0.9,\n",
       " 'beta_2': 0.999,\n",
       " 'early_stopping': False,\n",
       " 'epsilon': 1e-08,\n",
       " 'hidden_layer_sizes': (100, 100),\n",
       " 'learning_rate': 'constant',\n",
       " 'learning_rate_init': 0.001,\n",
       " 'max_iter': 200,\n",
       " 'momentum': 0.9,\n",
       " 'nesterovs_momentum': True,\n",
       " 'power_t': 0.5,\n",
       " 'random_state': None,\n",
       " 'shuffle': True,\n",
       " 'solver': 'adam',\n",
       " 'tol': 0.0001,\n",
       " 'validation_fraction': 0.1,\n",
       " 'verbose': False,\n",
       " 'warm_start': False}"
      ]
     },
     "execution_count": 171,
     "metadata": {},
     "output_type": "execute_result"
    }
   ],
   "source": [
    "mlp.get_params() # parameters of the MLP classifier "
   ]
  },
  {
   "cell_type": "code",
   "execution_count": 172,
   "metadata": {},
   "outputs": [
    {
     "data": {
      "text/plain": [
       "[(784, 100), (100, 100), (100, 10)]"
      ]
     },
     "execution_count": 172,
     "metadata": {},
     "output_type": "execute_result"
    }
   ],
   "source": [
    "[weight.shape for weight in mlp.coefs_] # inspect the shape of w0, w1, w2"
   ]
  },
  {
   "cell_type": "code",
   "execution_count": 173,
   "metadata": {},
   "outputs": [
    {
     "data": {
      "text/plain": [
       "[(100,), (100,), (10,)]"
      ]
     },
     "execution_count": 173,
     "metadata": {},
     "output_type": "execute_result"
    }
   ],
   "source": [
    "[bias.shape for bias in mlp.intercepts_] # inspect the shape of b0, b1, b2"
   ]
  }
 ],
 "metadata": {
  "kernelspec": {
   "display_name": "Python 3",
   "language": "python",
   "name": "python3"
  },
  "language_info": {
   "codemirror_mode": {
    "name": "ipython",
    "version": 3
   },
   "file_extension": ".py",
   "mimetype": "text/x-python",
   "name": "python",
   "nbconvert_exporter": "python",
   "pygments_lexer": "ipython3",
   "version": "3.6.3"
  }
 },
 "nbformat": 4,
 "nbformat_minor": 2
}
